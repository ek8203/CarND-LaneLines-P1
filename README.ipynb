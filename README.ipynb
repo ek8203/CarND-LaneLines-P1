{
 "cells": [
  {
   "cell_type": "markdown",
   "metadata": {},
   "source": [
    "### Sefl-Driving Car Nanodegree Program. Term 1\n",
    "___"
   ]
  },
  {
   "cell_type": "markdown",
   "metadata": {},
   "source": [
    "Author: Efraim Kropp (efraim.kropp@flex.com)\n",
    "\n",
    "Date: 09/14/2017\n",
    "___"
   ]
  },
  {
   "cell_type": "markdown",
   "metadata": {},
   "source": [
    "# **Project 1: Finding Lane Lines on the Road** "
   ]
  },
  {
   "cell_type": "markdown",
   "metadata": {},
   "source": [
    "<img style=\"float: left;\" src=\"examples/laneLines_thirdPass.jpg\" width=\"480\"  height=\"270\" alt=\"Combined Image\" style=\"max-width:100%;\">"
   ]
  },
  {
   "cell_type": "markdown",
   "metadata": {},
   "source": [
    "### **Overview**"
   ]
  },
  {
   "cell_type": "markdown",
   "metadata": {},
   "source": [
    "When we drive, we use our eyes to decide where to go. The lines on the road that show us where the lanes are act as our constant reference for where to steer the vehicle. In this project we automatically detect lane lines in images using [Python](https://www.python.org/) and [OpenCV](http://opencv.org/). We use [Jupiter Notebook](http://jupyter.org/) to write and execute [Python](https://www.python.org/) code and [Anaconda](https://docs.anaconda.com/) to configure the enviroment for running the code."
   ]
  },
  {
   "cell_type": "markdown",
   "metadata": {},
   "source": [
    "In the project directory you can find [CarND_writeup_P1.md](https://github.com/ek8203/CarND-LaneLines-P1/blob/master/CarND_writeup_P1.md) document explaining the solution.  \n",
    "\n",
    "### Project directory content:\n",
    "\n",
    "* [README.MD](https://github.com/ek8203/CarND-LaneLines-P1/blob/master/README.MD) - this file\n",
    "* [CarND_writeup_P1.md](https://github.com/ek8203/CarND-LaneLines-P1/blob/master/CarND_writeup_P1.md) ([.html](https://github.com/ek8203/CarND-LaneLines-P1/blob/master/CarND_writeup_P1.html), [.ipynb](https://github.com/ek8203/CarND-LaneLines-P1/blob/master/CarND_writeup_P1.ipynb)) - project writeup\n",
    "* [P1.md](https://github.com/ek8203/CarND-LaneLines-P1/blob/master/P1.md) ([.html](https://github.com/ek8203/CarND-LaneLines-P1/blob/master/P1.html), [.ipynb](https://github.com/ek8203/CarND-LaneLines-P1/blob/master/P1.ipynb)) - the actual project code with the solution\n",
    "* *test_images/* - folder with the images to be tested\n",
    "* *test_images_output/* - folder with output images after processing\n",
    "* *test_videos/* - folder with videos to be tested\n",
    "* *test_videos_output/* - folder with output videos after processing\n"
   ]
  },
  {
   "cell_type": "markdown",
   "metadata": {},
   "source": [
    "** *NOTE:* ** HTML files and videos should be downloaded or **git clone** [the project repository on GitHub](https://github.com/ek8203/CarND-LaneLines-P1) before reading/playing"
   ]
  },
  {
   "cell_type": "markdown",
   "metadata": {},
   "source": [
    "### Instructions for running the code on Windows\n",
    "\n",
    "1. Install [Python3](https://www.python.org/) and [Anaconda](https://docs.anaconda.com/)\n",
    "2. Setup and activate *carnd-term1* environment. In the Anaconda Prompt go to your home directory and run commands:  \n",
    " __git clone https://github.com/udacity/CarND-Term1-Starter-Kit.git   \n",
    " cd CarND-Term1-Starter-Kit   \n",
    " conda env create -f environment.yml   \n",
    " activate carnd-term1\n",
    " cd %homepath%__   \n",
    "3. Get the project from Git:   \n",
    " __git clone https://github.com/ek8203/CarND-LaneLines-P1\n",
    " cd CarND-LaneLines-P1__\n",
    "4. Launch *P1.ipynb* notebook:   \n",
    " __jupyter notebook P1.ipynb__"
   ]
  }
 ],
 "metadata": {
  "kernelspec": {
   "display_name": "Python 3",
   "language": "python",
   "name": "python3"
  },
  "language_info": {
   "codemirror_mode": {
    "name": "ipython",
    "version": 3
   },
   "file_extension": ".py",
   "mimetype": "text/x-python",
   "name": "python",
   "nbconvert_exporter": "python",
   "pygments_lexer": "ipython3",
   "version": "3.5.4"
  },
  "widgets": {
   "state": {},
   "version": "1.1.2"
  }
 },
 "nbformat": 4,
 "nbformat_minor": 2
}
