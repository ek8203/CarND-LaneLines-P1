{
 "cells": [
  {
   "cell_type": "markdown",
   "metadata": {},
   "source": [
    "# **Finding Lane Lines on the Road** \n",
    "\n",
    "## Project 1 Writeup\n",
    "\n",
    "### (This writeup document is created based on the \"writeup_template.md\" template)\n",
    "---"
   ]
  },
  {
   "cell_type": "markdown",
   "metadata": {},
   "source": [
    "## Goals:\n",
    "\n",
    "* Make a pipeline that finds lane lines on the road\n",
    "* Write a report reflecting the work\n",
    "---"
   ]
  },
  {
   "attachments": {},
   "cell_type": "markdown",
   "metadata": {},
   "source": [
    "### Reflection\n",
    "\n",
    "#### 1. Pipeline description\n",
    "\n",
    "My pipeline is using the basic tools learned in Lesson 1 of the course to identify lane lines on the road. Those tools are:\n",
    "* Color selection\n",
    "* Region of interest selection\n",
    "* Grayscaling \n",
    "* Gaussian smoothing \n",
    "* Canny Edge Detection and \n",
    "* Hough Tranform line detection\n",
    "\n",
    "First I tested the pipeline process on the provided test images. I put the image filenames in a list to read them in a loop and simulate the pipeline. In the loop I was reading a image  from file and called a function ***proc_img_pipe*** to process the image.\n",
    "In the function I grayscaled the image and applied Gaussian filter to smooth the image. Then I detected the edges of the objects by applying Canny agrorithm. In order to isolate the lane lines on the road I mask out a region of interest by defining vertices that form a poligon mask on the image. I used the resulting masked image as an input for Hough transform that gave me an image of the lane lines as an output. The I blended the lines with the original image and save the result image as file in the output directory.\n",
    "\n",
    "The below are tested images with the lines after processing:\n",
    "\n",
    "![Processed Images](files/P1_18_1.png)\n"
   ]
  },
  {
   "cell_type": "markdown",
   "metadata": {},
   "source": [
    "* Modification of the **draw_lines()** function\n",
    "\n",
    "Extending the lines on the image in the ***draw_lines()*** function required an additional effort and was challenging. After several attempts I choosed to simple extrapolation of the lines to the bottom of the image using line slope m = ((y2-y1)/(x2-x1)) and the end points of source lines. The result code looks like following:\n",
    "\n",
    "```python\n",
    "    # Extend lines by simple extrapolation to the bottom of the image\n",
    "    for line in lines:\n",
    "        for x1, y1, x2, y2 in line:\n",
    "            if (x2 - x1):\n",
    "                m = (y2 - y1)/(x2 - x1)\n",
    "                if m != 0:\n",
    "                    if y1 > y2:\n",
    "                        y1 = bottom_start\n",
    "                        x1 = int(x2 - (y2 - y1)/m)\n",
    "                        cv2.line(img, (x1, y1), (x2, y2), color, thickness)\n",
    "                    else:\n",
    "                        y2 = bottom_start\n",
    "                        x2 = int(x1 + (y2 - y1)/m)\n",
    "                        cv2.line(img, (x1, y1), (x2, y2), color, thickness)\n",
    "```\n",
    "where *bottom_start* is the Y-size of the original image passed to the function as an argument\n"
   ]
  },
  {
   "cell_type": "markdown",
   "metadata": {},
   "source": [
    "* Testing the videos\n",
    "\n",
    "After verifying the pipeline on the test images I included ***proc_img_pipe*** function call in the template function ***process_image*** to test it on the provided videos. The result output videos were save in the *\"test_videos_output/\"* directory (to be embedded after getting GitHub account)\n",
    "\n",
    "As tested the Challenge video does not work with my pipeline \n"
   ]
  },
  {
   "cell_type": "markdown",
   "metadata": {},
   "source": [
    "#### 2. Potential shortcomings with my pipeline\n",
    "\n",
    "My pipeline has few shortcomings.\n",
    "\n",
    "First it does not work with the challenge video and it required additional effort and time to figure out how to fix the issues. \n",
    "\n",
    "Second my extrapolation of the line is very rough and requires some more processing like averaging and filtering."
   ]
  },
  {
   "cell_type": "markdown",
   "metadata": {},
   "source": [
    "#### 3. Possible improvements to my pipeline\n",
    "\n",
    "Possible improvement to my pipeline would be adding averaging and filtering in the ***draw_lines()*** function\n",
    "\n",
    "Potencial improvement would be making modification to solve the challenge video issues. I guess the camera on the vehicle was a little off but have no idea how to approach that in the software. Maybe redefining the regeon in run-time could fix it but it sounds too soficticated to implement."
   ]
  }
 ],
 "metadata": {
  "kernelspec": {
   "display_name": "Python 3",
   "language": "python",
   "name": "python3"
  },
  "language_info": {
   "codemirror_mode": {
    "name": "ipython",
    "version": 3
   },
   "file_extension": ".py",
   "mimetype": "text/x-python",
   "name": "python",
   "nbconvert_exporter": "python",
   "pygments_lexer": "ipython3",
   "version": "3.5.4"
  },
  "widgets": {
   "state": {},
   "version": "1.1.2"
  }
 },
 "nbformat": 4,
 "nbformat_minor": 2
}
